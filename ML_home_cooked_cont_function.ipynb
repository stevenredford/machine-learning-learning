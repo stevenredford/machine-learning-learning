{
 "cells": [
  {
   "cell_type": "code",
   "execution_count": 1,
   "metadata": {},
   "outputs": [],
   "source": [
    "import numpy as np\n",
    "import matplotlib.pyplot as plt"
   ]
  },
  {
   "cell_type": "code",
   "execution_count": 2,
   "metadata": {},
   "outputs": [],
   "source": [
    "npts = 10000\n",
    "sigma = 0.2"
   ]
  },
  {
   "cell_type": "code",
   "execution_count": 3,
   "metadata": {},
   "outputs": [
    {
     "data": {
      "image/png": "[encoded data removed]",
      "text/plain": [
       "<Figure size 432x288 with 1 Axes>"
      ]
     },
     "metadata": {
      "needs_background": "light"
     },
     "output_type": "display_data"
    }
   ],
   "source": [
    "#generate the data\n",
    "def gen_data(npts):\n",
    "    \n",
    "    x = np.zeros((npts,2))\n",
    "    y = np.zeros((npts,2))\n",
    "\n",
    "    for ii in range(npts):\n",
    "\n",
    "        a = np.random.rand()\n",
    "        x[ii,0] = a\n",
    "        y[ii,0] = np.square(np.cos(3*np.pi*a))\n",
    "    return x,y\n",
    "    \n",
    "train_x,train_y = gen_data(npts)\n",
    "test_x,test_y = gen_data(npts)\n",
    "\n",
    "plt.scatter(train_x[:,0],train_y[:,0],c = 'k')\n",
    "#plt.axis('equal')\n",
    "plt.show()\n",
    "\n"
   ]
  },
  {
   "cell_type": "code",
   "execution_count": 4,
   "metadata": {},
   "outputs": [],
   "source": [
    "def initiate_layers(architecture):\n",
    "    n_layers = len(architecture)\n",
    "    params = {}\n",
    "    \n",
    "    for idx, layer in enumerate(architecture):\n",
    "        \n",
    "        input_size = layer['input_dim']\n",
    "        output_size = layer['output_dim']\n",
    "        func = layer['function']\n",
    "        \n",
    "        params['W' + str(idx)] = np.random.randn(output_size,input_size)\n",
    "        params['b' + str(idx)] = np.random.randn(output_size)\n",
    "        params['f' + str(idx)] = func\n",
    "    \n",
    "    return params"
   ]
  },
  {
   "cell_type": "code",
   "execution_count": 5,
   "metadata": {},
   "outputs": [],
   "source": [
    "def costx(truth,guess):\n",
    "    return 0.5*np.sum(np.square(truth - guess))"
   ]
  },
  {
   "cell_type": "code",
   "execution_count": 6,
   "metadata": {},
   "outputs": [],
   "source": [
    "def sigmoid(vector):\n",
    "    return 1/(1 + np.exp(-vector))"
   ]
  },
  {
   "cell_type": "code",
   "execution_count": 7,
   "metadata": {},
   "outputs": [],
   "source": [
    "def dsig(vec):\n",
    "    return sigmoid(vec)*(1 - sigmoid(vec))"
   ]
  },
  {
   "cell_type": "code",
   "execution_count": 8,
   "metadata": {},
   "outputs": [],
   "source": [
    "def update_weights(architecture,params,gradients,learning_rate):\n",
    "    for idx, layer in enumerate(architecture):\n",
    "        params['W' + str(idx)] += -gradients['dCdw' + str(idx)]*learning_rate\n",
    "        params['b' + str(idx)] += -gradients['dCdb' + str(idx)]*learning_rate\n",
    "    return params"
   ]
  },
  {
   "cell_type": "code",
   "execution_count": 9,
   "metadata": {},
   "outputs": [],
   "source": [
    "def forward_prop_one(architecture,params,inpt):\n",
    "    memory = {}\n",
    "    A = inpt[:]\n",
    "    \n",
    "    for idx, layer in enumerate(architecture):\n",
    "        A_prec = A\n",
    "        \n",
    "        W = params['W' + str(idx)]\n",
    "        b = params['b' + str(idx)]\n",
    "        func = params['f' + str(idx)]\n",
    "        \n",
    "        z = np.add(np.dot(W,A_prec),b)\n",
    "        #print('dot shape = ',np.shape(np.dot(W,A_prec)))\n",
    "        #print('b shape = ', np.shape(b))\n",
    "        #print('z shape = ',np.shape(z))\n",
    "        if func == 'sigmoid':\n",
    "            A = sigmoid(z)\n",
    "        else:\n",
    "            A = z\n",
    "        #print('A shape = ',np.shape(A))\n",
    "        \n",
    "        memory['A_in' + str(idx)] = A_prec\n",
    "        memory['z' + str(idx)] = z\n",
    "    \n",
    "    return A, memory"
   ]
  },
  {
   "cell_type": "code",
   "execution_count": 10,
   "metadata": {},
   "outputs": [],
   "source": [
    "def plot_status(architecture,params,test_r,test_ident,npts,bigtitle):\n",
    "    guesses = np.zeros(np.shape(test_ident))\n",
    "    for ii in range(npts):\n",
    "        guess,mem = forward_prop_one(architecture,params,test_r[ii,:])\n",
    "        #print(guess)\n",
    "        guesses[ii,:] = guess\n",
    "    \n",
    "    fig, (ax1,ax2) = plt.subplots(1,2)\n",
    "    fig.suptitle(bigtitle)\n",
    "    ax1.scatter(test_x[:,0],test_y[:,0],c = 'k')\n",
    "    ax1.set_title('truth')\n",
    "    #ax1.axis('equal')\n",
    "    #ax1.axis('off')\n",
    "    \n",
    "    ax2.scatter(test_x[:,0],guesses[:,0],c = 'r')\n",
    "    ax2.set_title('estimate')\n",
    "    #ax2.axis('equal')\n",
    "    #ax2.axis('off')\n",
    "    plt.show()\n",
    "    \n",
    "    print('distance = ',np.sum(np.square(guesses[:,0] - test_y[:,0]))/np.size(guesses[:,0]))\n",
    "    \n",
    "    return np.sum(np.square(guesses[:,0] - test_y[:,0]))/np.size(guesses[:,0])"
   ]
  },
  {
   "cell_type": "code",
   "execution_count": 11,
   "metadata": {},
   "outputs": [],
   "source": [
    "def back_prop_one(memory,params,truth,guess,architecture):\n",
    "    #this will calculate the gradients for one training example\n",
    "    \n",
    "    delta = {}\n",
    "    gradients = {}\n",
    "    nlayer = len(architecture)\n",
    "    \n",
    "    for idx, layer in enumerate(architecture):\n",
    "        \n",
    "        \n",
    "        l = nlayer - (idx + 1)\n",
    "        zl = memory['z' + str(l)]\n",
    "        Alm1 = memory['A_in' + str(l)]\n",
    "        \n",
    "        #print(l)\n",
    "        \n",
    "        if l == (nlayer - 1):\n",
    "            dl = (guess - truth)*dsig(zl)\n",
    "        else:\n",
    "            Wl1 = params['W' + str(l + 1)]\n",
    "            dl1 = delta['d' + str(l + 1)]\n",
    "            dl = np.dot(np.transpose(Wl1),dl1)*dsig(zl)\n",
    "        \n",
    "        delta['d' + str(l)] = dl\n",
    "        gradients['dCdb' + str(l)] = dl\n",
    "        gradients['dCdw' + str(l)] = np.outer(dl,Alm1)\n",
    "    \n",
    "    return delta, gradients"
   ]
  },
  {
   "cell_type": "code",
   "execution_count": 12,
   "metadata": {},
   "outputs": [],
   "source": [
    "def average_gradients(grads,architecture,start,stop):\n",
    "    \n",
    "    av_grads = {}\n",
    "    cutoff = stop-start\n",
    "    \n",
    "    for idx, layer in enumerate(architecture):\n",
    "        dCdw = 0\n",
    "        dCdb = 0\n",
    "        for ii in range(start,stop):\n",
    "            dCdw += grads['G' + str(ii)]['dCdw' + str(idx)]\n",
    "            dCdb += grads['G' + str(ii)]['dCdb' + str(idx)]\n",
    "        av_grads['dCdw' + str(idx)] = dCdw/cutoff\n",
    "        av_grads['dCdb' + str(idx)] = dCdb/cutoff\n",
    "    \n",
    "    return av_grads"
   ]
  },
  {
   "cell_type": "code",
   "execution_count": 13,
   "metadata": {},
   "outputs": [],
   "source": [
    "in_dim = 2\n",
    "nneuron = 24\n",
    "out_dim = 2\n",
    "nbatches = 1000\n",
    "\n",
    "nepoch = 1000\n",
    "learning_rate = 0.1"
   ]
  },
  {
   "cell_type": "code",
   "execution_count": 14,
   "metadata": {},
   "outputs": [],
   "source": [
    "ARCHITECTURE = [\n",
    "    {'input_dim': in_dim, 'output_dim': nneuron, 'function': 'sigmoid'},\n",
    "    {'input_dim': nneuron, 'output_dim': nneuron, 'function': 'sigmoid'},\n",
    "    {'input_dim': nneuron, 'output_dim': out_dim, 'function': 'sigmoid'},\n",
    "]"
   ]
  },
  {
   "cell_type": "code",
   "execution_count": 15,
   "metadata": {},
   "outputs": [],
   "source": [
    "#lets try to train a model\n",
    "def train_weights(ARCHITECTURE,nbatches,nepoch,learning_rate,train_r,train_ident,test_r,test_ident):\n",
    "    cutoff = int(npts/nbatches)\n",
    "\n",
    "    params = initiate_layers(ARCHITECTURE)\n",
    "        \n",
    "    errs = []\n",
    "    epchs = []\n",
    "    #e1 = plot_status(ARCHITECTURE,params,test_r,test_ident,npts,'pre-training')\n",
    "\n",
    "    for tt in range(nepoch):\n",
    "        for batch in range(nbatches):\n",
    "            grad_storage = {}\n",
    "            start = int(batch*cutoff)\n",
    "            stop = int((batch + 1)*cutoff)\n",
    "            for ii in range(start,stop):\n",
    "                inpt = train_x[ii]\n",
    "                truth = train_y[ii]\n",
    "                guess,memory = forward_prop_one(ARCHITECTURE,params,inpt)\n",
    "                delta,gradients = back_prop_one(memory,params,truth,guess,ARCHITECTURE)\n",
    "\n",
    "                grad_storage['G' + str(ii)] = gradients\n",
    "\n",
    "        #actually average gradients over epochs\n",
    "            av_grads = average_gradients(grad_storage,ARCHITECTURE,start,stop)\n",
    "            params = update_weights(ARCHITECTURE,params,gradients,learning_rate)\n",
    "        if tt%100 == 0:\n",
    "            error = plot_status(ARCHITECTURE,params,test_r,test_ident,npts,'epoch %s' %tt)\n",
    "            errs.append(error)\n",
    "            epchs.append(tt)\n",
    "    error = plot_status(ARCHITECTURE,params,test_r,test_ident,npts,'post-training')\n",
    "    errs.append(error)\n",
    "    epchs.append(tt)\n",
    "    \n",
    "    errs = np.asarray(errs)\n",
    "    epchs.append(epchs)\n",
    "    \n",
    "    return params, errs, epchs"
   ]
  },
  {
   "cell_type": "code",
   "execution_count": null,
   "metadata": {},
   "outputs": [
    {
     "data": {
      "image/png": "[encoded data removed]",
      "text/plain": [
       "<Figure size 432x288 with 2 Axes>"
      ]
     },
     "metadata": {
      "needs_background": "light"
     },
     "output_type": "display_data"
    },
    {
     "name": "stdout",
     "output_type": "stream",
     "text": [
      "distance =  0.12668483609803458\n"
     ]
    },
    {
     "data": {
      "image/png": "[encoded data removed]",
      "text/plain": [
       "<Figure size 432x288 with 2 Axes>"
      ]
     },
     "metadata": {
      "needs_background": "light"
     },
     "output_type": "display_data"
    },
    {
     "name": "stdout",
     "output_type": "stream",
     "text": [
      "distance =  0.12442948882487233\n"
     ]
    }
   ],
   "source": [
    "params,err,epchs = train_weights(ARCHITECTURE,nbatches,nepoch,learning_rate,train_x,train_y,test_x,test_y)"
   ]
  },
  {
   "cell_type": "code",
   "execution_count": null,
   "metadata": {},
   "outputs": [],
   "source": [
    "plt.plot(epchs,err)"
   ]
  },
  {
   "cell_type": "code",
   "execution_count": null,
   "metadata": {},
   "outputs": [],
   "source": []
  }
 ],
 "metadata": {
  "kernelspec": {
   "display_name": "Python 3",
   "language": "python",
   "name": "python3"
  },
  "language_info": {
   "codemirror_mode": {
    "name": "ipython",
    "version": 3
   },
   "file_extension": ".py",
   "mimetype": "text/x-python",
   "name": "python",
   "nbconvert_exporter": "python",
   "pygments_lexer": "ipython3",
   "version": "3.7.6"
  }
 },
 "nbformat": 4,
 "nbformat_minor": 4
}
